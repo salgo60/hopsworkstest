{
 "cells": [
  {
   "cell_type": "code",
   "execution_count": null,
   "id": "1e4a2927-fd04-41ce-a385-29250530acb4",
   "metadata": {},
   "outputs": [],
   "source": [
    "1_churn_feature_pipeline.ipynb"
   ]
  }
 ],
 "metadata": {
  "kernelspec": {
   "display_name": "Python 3 (ipykernel)",
   "language": "python",
   "name": "python3"
  },
  "language_info": {
   "codemirror_mode": {
    "name": "ipython",
    "version": 3
   },
   "file_extension": ".py",
   "mimetype": "text/x-python",
   "name": "python",
   "nbconvert_exporter": "python",
   "pygments_lexer": "ipython3",
   "version": "3.12.2"
  }
 },
 "nbformat": 4,
 "nbformat_minor": 5
}
