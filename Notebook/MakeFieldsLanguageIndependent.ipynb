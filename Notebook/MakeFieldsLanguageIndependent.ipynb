{
 "cells": [
  {
   "cell_type": "markdown",
   "id": "eb8a745d-ed22-4675-891c-2767841c8d37",
   "metadata": {},
   "source": [
    "# Language independt\n",
    "Have Identfifers of question and answer and create a panda dataset to\n",
    "translates them to more languages Swe = Swedish, En = English \n",
    "\n",
    "Example \n",
    "* Q1 = en:Age = sv:år\n",
    "* Q2 = en:Height cm = sv:Längd cm\n",
    "* Q3 = en:Weight kg = sv:Vikt kg\n",
    "* Q4 = en:Menstrual_Flow = sv:Menustrations cykel\n",
    "Menstrual_Frequency\n",
    "Pain_During_Menstruation\n",
    "Irregular_Bleeding\n",
    "Premenstrual_Symptoms\n",
    "Menstrual_Period_Duration\n",
    "Recent_Change"
   ]
  },
  {
   "cell_type": "code",
   "execution_count": 1,
   "id": "4f3fc74e-6b9b-4a7d-8b46-1322873b1a2b",
   "metadata": {},
   "outputs": [
    {
     "name": "stdout",
     "output_type": "stream",
     "text": [
      "Last run:  2024-04-12 17:06:39.510011\n"
     ]
    }
   ],
   "source": [
    "from datetime import datetime\n",
    "start_time  = datetime.now()\n",
    "print(\"Last run: \", start_time)"
   ]
  },
  {
   "cell_type": "code",
   "execution_count": 2,
   "id": "08ebe014-f3b2-44ae-aee2-55925f835d4c",
   "metadata": {},
   "outputs": [
    {
     "name": "stdout",
     "output_type": "stream",
     "text": [
      "                        en                  sv\n",
      "Identifier                                    \n",
      "Q1                     Age                  År\n",
      "Q2               Height cm            Längd cm\n",
      "Q3               Weight kg             Vikt kg\n",
      "Q4          Menstrual Flow  Menstruationscykel\n"
     ]
    }
   ],
   "source": [
    "import pandas as pd \n",
    "\n",
    "data = {\n",
    "    'Identifier': ['Q1', 'Q2', 'Q3', 'Q4'],\n",
    "    'en': ['Age', 'Height cm', 'Weight kg', 'Menstrual Flow'],\n",
    "    'sv': ['År', 'Längd cm', 'Vikt kg', 'Menstruationscykel']\n",
    "}\n",
    "\n",
    "# Create the DataFrame\n",
    "df = pd.DataFrame(data)\n",
    "# Setting 'Identifier' column as the index of the DataFrame\n",
    "df.set_index('Identifier', inplace=True)\n",
    "# Display the DataFrame\n",
    "print(df)"
   ]
  },
  {
   "cell_type": "code",
   "execution_count": 3,
   "id": "5c4be8ab-ca6b-44e7-ad9d-d37bcb8df160",
   "metadata": {},
   "outputs": [
    {
     "name": "stdout",
     "output_type": "stream",
     "text": [
      "Identifier\n",
      "Q1               Age\n",
      "Q2         Height cm\n",
      "Q3         Weight kg\n",
      "Q4    Menstrual Flow\n",
      "Name: en, dtype: object Identifier\n",
      "Q1                    År\n",
      "Q2              Längd cm\n",
      "Q3               Vikt kg\n",
      "Q4    Menstruationscykel\n",
      "Name: sv, dtype: object\n"
     ]
    }
   ],
   "source": [
    "# Example 1: Retrieve a whole column by label\n",
    "# This retrieves the 'en' column which contains English labels\n",
    "LabelsEn = df['en']\n",
    "LabelsSv = df['sv']\n",
    "\n",
    "\n",
    "print(LabelsEn, LabelsSv)\n",
    "\n"
   ]
  },
  {
   "cell_type": "code",
   "execution_count": 4,
   "id": "bf58d8b2-c466-4e35-9a74-c44b8a1a6596",
   "metadata": {},
   "outputs": [
    {
     "name": "stdout",
     "output_type": "stream",
     "text": [
      "Height cm\n",
      "Längd cm\n"
     ]
    }
   ],
   "source": [
    "# Example 2: Retrieve a subset of rows using conditions\n",
    "# This retrieves the English label for 'Height cm'\n",
    "english_height = df.loc['Q2', 'en']\n",
    "swedish_height = df.loc['Q2', 'sv']\n",
    "\n",
    "print(english_height)\n",
    "\n",
    "print(swedish_height)\n"
   ]
  },
  {
   "cell_type": "code",
   "execution_count": 5,
   "id": "604679db-cff1-4dad-b5d5-cbac802d39c1",
   "metadata": {},
   "outputs": [
    {
     "name": "stdout",
     "output_type": "stream",
     "text": [
      "                        en\n",
      "Identifier                \n",
      "Q1                     Age\n",
      "Q2               Height cm\n",
      "Q3               Weight kg\n",
      "Q4          Menstrual Flow\n"
     ]
    }
   ],
   "source": [
    "\n",
    "# Example 3: Retrieve multiple columns\n",
    "# This retrieves only the 'Identifier' and 'en' columns\n",
    "subsetEn = df[['en']] \n",
    "subsetSv = df[['sv']] \n",
    "\n",
    "print (subsetEn)"
   ]
  },
  {
   "cell_type": "code",
   "execution_count": 6,
   "id": "82ddcf89-7c36-4605-8b72-937547a9fd52",
   "metadata": {},
   "outputs": [
    {
     "name": "stdout",
     "output_type": "stream",
     "text": [
      "en :  Height cm\n",
      "sv :  Längd cm\n"
     ]
    }
   ],
   "source": [
    "#Example 4: Retrieve a subset of rows for a language\n",
    "# Set the language \n",
    "\n",
    "currentLang = 'en' \n",
    "\n",
    "heightLabel = df.loc['Q2', currentLang]\n",
    "print (currentLang, \": \", heightLabel)\n",
    " \n",
    "currentLang = 'sv' \n",
    "\n",
    "print (currentLang, \": \", df.loc['Q2', currentLang])\n",
    "\n"
   ]
  },
  {
   "cell_type": "code",
   "execution_count": 7,
   "id": "6bd0f3ea-6835-4b86-9344-7e7126376de5",
   "metadata": {},
   "outputs": [
    {
     "name": "stdout",
     "output_type": "stream",
     "text": [
      "Ended:  2024-04-12 17:06:40.073950\n",
      "Time elapsed (hh:mm:ass.ms) 0:00:00.564021\n"
     ]
    }
   ],
   "source": [
    "end = datetime.now()\n",
    "print(\"Ended: \", end) \n",
    "print('Time elapsed (hh:mm:ass.ms) {}'.format(datetime.now() - start_time))\n"
   ]
  }
 ],
 "metadata": {
  "kernelspec": {
   "display_name": "Python 3 (ipykernel)",
   "language": "python",
   "name": "python3"
  },
  "language_info": {
   "codemirror_mode": {
    "name": "ipython",
    "version": 3
   },
   "file_extension": ".py",
   "mimetype": "text/x-python",
   "name": "python",
   "nbconvert_exporter": "python",
   "pygments_lexer": "ipython3",
   "version": "3.12.2"
  }
 },
 "nbformat": 4,
 "nbformat_minor": 5
}
